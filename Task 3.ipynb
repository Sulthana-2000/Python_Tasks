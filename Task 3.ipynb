{
  "nbformat": 4,
  "nbformat_minor": 0,
  "metadata": {
    "colab": {
      "provenance": []
    },
    "kernelspec": {
      "name": "python3",
      "display_name": "Python 3"
    },
    "language_info": {
      "name": "python"
    }
  },
  "cells": [
    {
      "cell_type": "markdown",
      "source": [
        "1.  Write a Python program to create a class representing a Circle. Include methods to calculate its area and perimeter."
      ],
      "metadata": {
        "id": "Lnd0KJPI0BHW"
      }
    },
    {
      "cell_type": "code",
      "execution_count": 20,
      "metadata": {
        "colab": {
          "base_uri": "https://localhost:8080/"
        },
        "id": "tSj8emF3z77C",
        "outputId": "342b6341-10f1-423f-b182-c748f9c4ad18"
      },
      "outputs": [
        {
          "output_type": "stream",
          "name": "stdout",
          "text": [
            "Area: 78.5\n",
            "Perimeter: 31.400000000000002\n"
          ]
        }
      ],
      "source": [
        "class Circle:\n",
        "    def __init__(self,radius):\n",
        "        self.radius=radius\n",
        "\n",
        "    def area(self):\n",
        "        return 3.14*(self.radius**2)\n",
        "\n",
        "    def perimeter(self):\n",
        "        return 2*3.14*self.radius\n",
        "\n",
        "#radius of 5\n",
        "circle=Circle(5)\n",
        "\n",
        "#print the area and perimeter of the circle\n",
        "print(\"Area:\",circle.area())\n",
        "print(\"Perimeter:\",circle.perimeter())\n"
      ]
    },
    {
      "cell_type": "markdown",
      "source": [
        "2. Write a Python program to create a calculator class. Include methods for basic arithmetic operations."
      ],
      "metadata": {
        "id": "tTkvP1IH0CtE"
      }
    },
    {
      "cell_type": "code",
      "source": [
        "class Calculator:\n",
        "  def __init__(self,num1,num2):\n",
        "    self.num1=num1\n",
        "    self.num2=num2\n",
        "  def add(self):\n",
        "    add=self.num1+self.num2\n",
        "    print(f'{self.num1}+{self.num2}={add}')\n",
        "  def sub(self):\n",
        "    sub=self.num1-self.num2\n",
        "    print(f'{self.num1}+{self.num2}={sub}')\n",
        "  def mul(self):\n",
        "    mul=self.num1*self.num2\n",
        "    print(f'{self.num1}+{self.num2}={mul}')\n",
        "  def div(self):\n",
        "    if self.num2==0:\n",
        "      print('Not defined')\n",
        "    else:\n",
        "      div=self.num1/self.num2\n",
        "      print(f'{self.num1}+{self.num2}={div}')\n",
        "\n",
        "num1=int(input('enter the number: '))\n",
        "num2=int(input('enter another number: '))\n",
        "\n",
        "result=Calculator(num1,num2)\n",
        "result.add()\n",
        "result.sub()\n",
        "result.mul()\n",
        "result.div()\n"
      ],
      "metadata": {
        "colab": {
          "base_uri": "https://localhost:8080/"
        },
        "id": "TuBMqLAa0FuT",
        "outputId": "b8f18818-dd9f-408b-ded8-89d64b332c43"
      },
      "execution_count": 31,
      "outputs": [
        {
          "output_type": "stream",
          "name": "stdout",
          "text": [
            "enter the number: 6\n",
            "enter another number: 3\n",
            "6+3=9\n",
            "6+3=3\n",
            "6+3=18\n",
            "6+3=2.0\n"
          ]
        }
      ]
    },
    {
      "cell_type": "markdown",
      "source": [
        "3. Write a Python program to create a class that represents a shape. Include methods to calculate its area and perimeter. Implement subclasses for different shapes like circle, triangle, and square."
      ],
      "metadata": {
        "id": "GuEPyFNv0GPA"
      }
    },
    {
      "cell_type": "code",
      "source": [
        "class Shape:\n",
        "  def area(self):\n",
        "    pass\n",
        "  def perimeter(self):\n",
        "    pass\n",
        "\n",
        "class Circle(Shape):\n",
        "  def __init__(self,radius):\n",
        "    self.radius=radius\n",
        "  def area(self):\n",
        "    area=3.14*(self.radius**2)\n",
        "    print(area)\n",
        "  def perimeter(self):\n",
        "    perimeter=2*3.14*self.radius\n",
        "    print(perimeter)\n",
        "\n",
        "class Triangle(Shape):\n",
        "  def __init__(self,base,height,side_1,side_2,side_3):\n",
        "    self.base=base\n",
        "    self.height=height\n",
        "    self.side_1=side_1\n",
        "    self.side_2=side_2\n",
        "    self.side_3=side_3\n",
        "  def area(self):\n",
        "    area=0.5*self.base*self.height\n",
        "    print(area)\n",
        "  def perimeter(self):\n",
        "    perimeter=self.side_1+self.side_2+self.side_3\n",
        "    print(perimeter)\n",
        "\n",
        "class Square(Shape):\n",
        "  def __init__(self,side):\n",
        "    self.side=side\n",
        "  def area(self):\n",
        "    area=self.side**2\n",
        "    print(area)\n",
        "  def perimeter(self):\n",
        "    perimeter=4*self.side\n",
        "    print(perimeter)\n",
        "\n",
        "radius=int(input('enter the radius: '))\n",
        "test1=Circle(radius)\n",
        "test1.area()\n",
        "test1.perimeter()\n",
        "\n",
        "base=int(input('enter the base of the triangle: '))\n",
        "height=int(input('enter the height of the triangle: '))\n",
        "side_1=int(input('enter the 1st side: '))\n",
        "side_2=int(input('enter the 2nd side: '))\n",
        "side_3=int(input('enter the 3rd side: '))\n",
        "test2=Triangle(base,height,side_1,side_2,side_3)\n",
        "test2.area()\n",
        "test2.perimeter()\n",
        "\n",
        "side=int(input('enter the side of the square: '))\n",
        "test3=Square(side)\n",
        "test3.area()\n",
        "test3.perimeter()\n",
        "\n"
      ],
      "metadata": {
        "colab": {
          "base_uri": "https://localhost:8080/"
        },
        "id": "xzfW5ma21HuZ",
        "outputId": "943d8a58-bbe5-421f-ce33-ceda2cedc19c"
      },
      "execution_count": 41,
      "outputs": [
        {
          "output_type": "stream",
          "name": "stdout",
          "text": [
            "enter the radius: 3\n",
            "28.26\n",
            "18.84\n",
            "enter the base of the triangle: 2\n",
            "enter the height of the triangle: 3\n",
            "enter the 1st side: 1\n",
            "enter the 2nd side: 2\n",
            "enter the 3rd side: 3\n",
            "3.0\n",
            "6\n",
            "enter the side of the square: 3\n",
            "9\n",
            "12\n"
          ]
        }
      ]
    },
    {
      "cell_type": "code",
      "source": [],
      "metadata": {
        "id": "7_O4-Gk1_spN"
      },
      "execution_count": null,
      "outputs": []
    }
  ]
}