{
  "nbformat": 4,
  "nbformat_minor": 0,
  "metadata": {
    "colab": {
      "provenance": [],
      "include_colab_link": true
    },
    "kernelspec": {
      "name": "python3",
      "display_name": "Python 3"
    },
    "language_info": {
      "name": "python"
    }
  },
  "cells": [
    {
      "cell_type": "markdown",
      "metadata": {
        "id": "view-in-github",
        "colab_type": "text"
      },
      "source": [
        "<a href=\"https://colab.research.google.com/github/Sulthana-2000/Python_Tasks/blob/main/Task_1.ipynb\" target=\"_parent\"><img src=\"https://colab.research.google.com/assets/colab-badge.svg\" alt=\"Open In Colab\"/></a>"
      ]
    },
    {
      "cell_type": "markdown",
      "source": [
        "1.Write a Python program to sum all the items in a list.\n"
      ],
      "metadata": {
        "id": "4Qlul0Z6dhjz"
      }
    },
    {
      "cell_type": "code",
      "execution_count": null,
      "metadata": {
        "colab": {
          "base_uri": "https://localhost:8080/"
        },
        "id": "KP9LiNxNdgi-",
        "outputId": "f58d1aca-9f06-48f5-c517-ef406df54489"
      },
      "outputs": [
        {
          "output_type": "stream",
          "name": "stdout",
          "text": [
            "15\n"
          ]
        }
      ],
      "source": [
        "list=[1,2,3,4,5]\n",
        "print(sum(list))"
      ]
    },
    {
      "cell_type": "markdown",
      "source": [
        "2.Write a Python program to get the largest number from a list."
      ],
      "metadata": {
        "id": "7LvZa6vVd54G"
      }
    },
    {
      "cell_type": "code",
      "source": [
        "list=[12,23,43,20,45]\n",
        "print(max(list))\n"
      ],
      "metadata": {
        "colab": {
          "base_uri": "https://localhost:8080/"
        },
        "id": "HRjVG5LDd4zu",
        "outputId": "fa99105d-1fed-48f9-e1fc-17c72dd3e62f"
      },
      "execution_count": null,
      "outputs": [
        {
          "output_type": "stream",
          "name": "stdout",
          "text": [
            "45\n"
          ]
        }
      ]
    },
    {
      "cell_type": "markdown",
      "source": [
        "3.Write a Python program to count the number of strings from a given list of strings. The string length is 2 or more and the first and last characters are the same.\n"
      ],
      "metadata": {
        "id": "TMTieSsTeJek"
      }
    },
    {
      "cell_type": "code",
      "source": [
        "list=['lol','odo','hello','tree','eye']\n",
        "r1=len(list)\n",
        "print('The number of strings in the list are: ',r1)\n",
        "\n",
        "print('The required strings are: ')\n",
        "[i for i in list if (len(i) >= 2 and i[-1] == i[0])]"
      ],
      "metadata": {
        "colab": {
          "base_uri": "https://localhost:8080/"
        },
        "id": "cgjmw78seIZp",
        "outputId": "f83bb062-1889-4115-c3a2-fa4c699e0617"
      },
      "execution_count": null,
      "outputs": [
        {
          "output_type": "stream",
          "name": "stdout",
          "text": [
            "The number of strings in the list are:  5\n",
            "The required strings are: \n"
          ]
        },
        {
          "output_type": "execute_result",
          "data": {
            "text/plain": [
              "['lol', 'odo', 'eye']"
            ]
          },
          "metadata": {},
          "execution_count": 24
        }
      ]
    },
    {
      "cell_type": "markdown",
      "source": [
        "4.Write a Python program to remove duplicates from a list."
      ],
      "metadata": {
        "id": "uVdKKReTevQk"
      }
    },
    {
      "cell_type": "code",
      "source": [
        "list=[1,1,2,2,3,4,5,6,6]\n",
        "new_list=(set(list))\n",
        "print(new_list)"
      ],
      "metadata": {
        "colab": {
          "base_uri": "https://localhost:8080/"
        },
        "id": "G_5ycA9heQNm",
        "outputId": "2eeb0d2c-8f90-489b-892e-2ee79e73284d"
      },
      "execution_count": null,
      "outputs": [
        {
          "output_type": "stream",
          "name": "stdout",
          "text": [
            "{1, 2, 3, 4, 5, 6}\n"
          ]
        }
      ]
    },
    {
      "cell_type": "markdown",
      "source": [
        "5.Write a Python program to check if a list is empty or not."
      ],
      "metadata": {
        "id": "i8yg65d7e7PS"
      }
    },
    {
      "cell_type": "code",
      "source": [
        "list=[]\n",
        "if len(list)==0:\n",
        "  print('the list is empty')\n",
        "else:\n",
        "  print('the list is not empty')"
      ],
      "metadata": {
        "colab": {
          "base_uri": "https://localhost:8080/"
        },
        "id": "NWOpv4ope_3F",
        "outputId": "26a43a83-0920-4c87-fbb4-11eeeafabcde"
      },
      "execution_count": null,
      "outputs": [
        {
          "output_type": "stream",
          "name": "stdout",
          "text": [
            "the list is empty\n"
          ]
        }
      ]
    },
    {
      "cell_type": "markdown",
      "source": [
        "6.Write a Python program to filter the list if the length of the character is < 4\n",
        "\n",
        "Sample List : ['abc', 'xyz', 'aba', '1221']\n",
        "\n",
        "Expected Result: ['abc', 'xyz', 'aba']"
      ],
      "metadata": {
        "id": "3CU4tH_HfEQp"
      }
    },
    {
      "cell_type": "code",
      "source": [
        "list=['eye','bat','car','shoes','towel']\n",
        "filtered=[]\n",
        "for i in list:\n",
        "  if len(i)<4:\n",
        "    filtered.append(i)\n",
        "print(filtered)"
      ],
      "metadata": {
        "colab": {
          "base_uri": "https://localhost:8080/"
        },
        "id": "qw63WY6PfJGx",
        "outputId": "effcf286-7760-4c3b-8823-fa3e1a2da3bf"
      },
      "execution_count": null,
      "outputs": [
        {
          "output_type": "stream",
          "name": "stdout",
          "text": [
            "['eye', 'bat', 'car']\n"
          ]
        }
      ]
    },
    {
      "cell_type": "markdown",
      "source": [
        "7.Write a Python program to find the second largest number in a list."
      ],
      "metadata": {
        "id": "K_BN01yTgMmC"
      }
    },
    {
      "cell_type": "code",
      "source": [
        "x=[1,2,3,4,-1,-2]\n",
        "y=x.sort()\n",
        "print(x[-2])\n"
      ],
      "metadata": {
        "id": "pUb2UkqlgQfe",
        "colab": {
          "base_uri": "https://localhost:8080/"
        },
        "outputId": "1047ac4a-1844-419f-f6ec-959113cd0983"
      },
      "execution_count": null,
      "outputs": [
        {
          "output_type": "stream",
          "name": "stdout",
          "text": [
            "3\n"
          ]
        }
      ]
    },
    {
      "cell_type": "markdown",
      "source": [
        "8.Write a Python program to reverse a list at a specific location."
      ],
      "metadata": {
        "id": "fOnnaklJgRh2"
      }
    },
    {
      "cell_type": "code",
      "source": [
        "list=[1,2,3,4,5,6]\n",
        "list1=list[:2]\n",
        "list2=list[2:]\n",
        "list2.sort(reverse=True)\n",
        "result=list1+list2\n",
        "print(result)"
      ],
      "metadata": {
        "id": "oQ5LnrzMgVBB",
        "colab": {
          "base_uri": "https://localhost:8080/"
        },
        "outputId": "21bb2772-40f2-400f-8496-3ca95dda9086"
      },
      "execution_count": null,
      "outputs": [
        {
          "output_type": "stream",
          "name": "stdout",
          "text": [
            "[1, 2, 6, 5, 4, 3]\n"
          ]
        }
      ]
    },
    {
      "cell_type": "markdown",
      "source": [
        "9.Write a Python program to check if a list is a palindrome or not. Return true otherwise false."
      ],
      "metadata": {
        "id": "oDePn887gVkL"
      }
    },
    {
      "cell_type": "code",
      "source": [
        "a=input('enter the string:')\n",
        "b=a[::-1]\n",
        "if b==a:\n",
        "    print('palindrome')\n",
        "else:\n",
        "    print('not palindrome')"
      ],
      "metadata": {
        "colab": {
          "base_uri": "https://localhost:8080/"
        },
        "id": "lT4GKxsxgad7",
        "outputId": "653a9df9-eb38-4df3-fff1-4617ec38fd98"
      },
      "execution_count": null,
      "outputs": [
        {
          "output_type": "stream",
          "name": "stdout",
          "text": [
            "enter the string:malayalam\n",
            "palindrome\n"
          ]
        }
      ]
    },
    {
      "cell_type": "markdown",
      "source": [
        "10.Write a Python a program to find the union and intersection of two lists."
      ],
      "metadata": {
        "id": "qQqPlWCigb_z"
      }
    },
    {
      "cell_type": "code",
      "source": [
        "list1=[1,2,3,4,5]\n",
        "list2=[4,5,6,7,8]\n",
        "\n",
        "set1=set(list1)\n",
        "set2=set(list2)\n",
        "\n",
        "union_list=set1.union(set2)\n",
        "print(union_list)\n",
        "\n",
        "intersection_list=set1.intersection(set2)\n",
        "print(intersection_list)\n",
        "\n"
      ],
      "metadata": {
        "colab": {
          "base_uri": "https://localhost:8080/"
        },
        "id": "Hr_XliPUgfzM",
        "outputId": "85da0e51-81b2-46a9-d872-b06a2ea7478d"
      },
      "execution_count": null,
      "outputs": [
        {
          "output_type": "stream",
          "name": "stdout",
          "text": [
            "{1, 2, 3, 4, 5, 6, 7, 8}\n",
            "{4, 5}\n"
          ]
        }
      ]
    },
    {
      "cell_type": "markdown",
      "source": [
        "11.Write a Python script to sort (ascending and descending) a dictionary by value"
      ],
      "metadata": {
        "id": "xd38qNqOggY2"
      }
    },
    {
      "cell_type": "code",
      "source": [
        "my_dict={'apple':5,'banana':2,'cherry':8,'strawberry':3}\n",
        "\n",
        "ascending=dict(sorted(my_dict.items(),key=lambda item:item[1]))\n",
        "print(\"ascending:\", ascending_sorted_dict)\n",
        "\n",
        "descending=dict(sorted(my_dict.items(),key=lambda item:item[1],reverse=True))\n",
        "print(\"descending:\", descending_sorted_dict)\n"
      ],
      "metadata": {
        "id": "2Mv8ql2ZglCb",
        "colab": {
          "base_uri": "https://localhost:8080/"
        },
        "outputId": "ce273cfc-dfaf-4506-85a2-d24244f63b2d"
      },
      "execution_count": null,
      "outputs": [
        {
          "output_type": "stream",
          "name": "stdout",
          "text": [
            "ascending: {'banana': 2, 'grape': 3, 'apple': 5, 'orange': 8}\n",
            "descending: {'orange': 8, 'apple': 5, 'grape': 3, 'banana': 2}\n"
          ]
        }
      ]
    },
    {
      "cell_type": "markdown",
      "source": [
        "12.Write a Python script to check whether a given key already exists in a dictionary.\n"
      ],
      "metadata": {
        "id": "yYHj3ZZwgli4"
      }
    },
    {
      "cell_type": "code",
      "source": [
        "my_dict={'apple':5,'banana':2,'orange':8,'grape':3}\n",
        "\n",
        "key='orange'\n",
        "\n",
        "print(f\"The key' {key}' {'exists' if key in my_dict else 'does not exist'} in the dictionary.\")\n"
      ],
      "metadata": {
        "id": "IU_otiqQgolh",
        "colab": {
          "base_uri": "https://localhost:8080/"
        },
        "outputId": "da3ea27f-646d-4285-ea17-6f7123750356"
      },
      "execution_count": null,
      "outputs": [
        {
          "output_type": "stream",
          "name": "stdout",
          "text": [
            "The key'orange' exists in the dictionary.\n"
          ]
        }
      ]
    },
    {
      "cell_type": "markdown",
      "source": [
        "13.Write a Python program to sum all the values in a dictionary."
      ],
      "metadata": {
        "id": "04gjY9uCgpT8"
      }
    },
    {
      "cell_type": "code",
      "source": [
        "my_dict = {'apple': 5, 'banana': 2, 'orange': 8, 'grape': 3}\n",
        "\n",
        "total= sum(my_dict.values())\n",
        "\n",
        "print(total)\n"
      ],
      "metadata": {
        "id": "PF-7ebJEgr4k",
        "colab": {
          "base_uri": "https://localhost:8080/"
        },
        "outputId": "a37bb76d-79d7-4532-bf1f-7682b235dcd3"
      },
      "execution_count": null,
      "outputs": [
        {
          "output_type": "stream",
          "name": "stdout",
          "text": [
            "18\n"
          ]
        }
      ]
    },
    {
      "cell_type": "markdown",
      "source": [
        " 14.Write a Python program to create a dictionary with a number and its corresponding square from 1 to input number. And also check if the input number is less than 10\n",
        "\n",
        "Eg:\n",
        "\n",
        "Input : 3\n",
        "\n",
        "Output : {1:1, 2:4, 3:9}"
      ],
      "metadata": {
        "id": "PibINTFWgsWv"
      }
    },
    {
      "cell_type": "code",
      "source": [
        "number=int(input(\"Enter a number:\"))\n",
        "\n",
        "if number<10:\n",
        "    square= {i: i ** 2 for i in range(1,number + 1)}\n",
        "    print(square)\n",
        "else:\n",
        "    print(\"number must be less than 10.\")\n"
      ],
      "metadata": {
        "id": "3WLr9C0rgu0n",
        "colab": {
          "base_uri": "https://localhost:8080/"
        },
        "outputId": "3416ab30-c967-43f4-88f8-516619d86c05"
      },
      "execution_count": null,
      "outputs": [
        {
          "output_type": "stream",
          "name": "stdout",
          "text": [
            "Enter a number:4\n",
            "{1: 1, 2: 4, 3: 9, 4: 16}\n"
          ]
        }
      ]
    },
    {
      "cell_type": "markdown",
      "source": [
        "\n",
        "15.Write a Python program to sort a given dictionary by key"
      ],
      "metadata": {
        "id": "OUsRwOcWgvhm"
      }
    },
    {
      "cell_type": "code",
      "source": [
        "my_dict = {'clock':4,'ball':7,'door':3,'axe':5}\n",
        "\n",
        "sort= dict(sorted(my_dict.items()))\n",
        "\n",
        "print(sort)\n"
      ],
      "metadata": {
        "id": "CFk7Yvirg9-u",
        "colab": {
          "base_uri": "https://localhost:8080/"
        },
        "outputId": "b36922b6-55d2-43e9-9cbc-9fd43608a161"
      },
      "execution_count": null,
      "outputs": [
        {
          "output_type": "stream",
          "name": "stdout",
          "text": [
            "{'axe': 5, 'ball': 7, 'clock': 4, 'door': 3}\n"
          ]
        }
      ]
    },
    {
      "cell_type": "markdown",
      "source": [
        "16.Write a Python program to create a dictionary from a string.\n",
        "Note: Track the count of the letters from the string.\n",
        "\n",
        "Sample string : 'learnpython'\n",
        "\n",
        "Expected output: {'l': 1, 'e': 1, 'a': 1, 'r': 1, 'n': 2, 'p': 1, 'y': 1, 't': 1, 'h': 1, 'o': 1}"
      ],
      "metadata": {
        "id": "JxSXIarng-mU"
      }
    },
    {
      "cell_type": "code",
      "source": [
        "input_string = input(\"Enter a string: \")\n",
        "\n",
        "count= {}\n",
        "\n",
        "for i in input_string:\n",
        "    if i.isalpha():\n",
        "        i_lower = i.lower()\n",
        "        count[i_lower] =count.get(i_lower, 0) + 1\n",
        "\n",
        "print(count)\n"
      ],
      "metadata": {
        "id": "vt_FruDlhDt2",
        "colab": {
          "base_uri": "https://localhost:8080/"
        },
        "outputId": "4c6bc2c8-2678-4966-a1d9-614f60c2beca"
      },
      "execution_count": null,
      "outputs": [
        {
          "output_type": "stream",
          "name": "stdout",
          "text": [
            "Enter a string: fathima\n",
            "{'f': 1, 'a': 2, 't': 1, 'h': 1, 'i': 1, 'm': 1}\n"
          ]
        }
      ]
    },
    {
      "cell_type": "markdown",
      "source": [
        "17.Write a Python program to get the top three items in a shop.\n",
        "\n",
        "Sample data: {'item1': 45.50, 'item2':35, 'item3': 41.30, 'item4':55, 'item5': 24}\n",
        "\n",
        "Expected Output:\n",
        "\n",
        "item4 55\n",
        "\n",
        "item1 45.5\n",
        "\n",
        "item3 41.3"
      ],
      "metadata": {
        "id": "JBdaCaoBhEmb"
      }
    },
    {
      "cell_type": "code",
      "source": [
        "fruits={'apple':10,'banana':24,'cherry':70,'strawberry':67,'raspberry':43}\n",
        "\n",
        "sortfruits=sorted(fruits.items(),key=lambda x:x[1],reverse=True)\n",
        "\n",
        "for i in range(3):\n",
        "  print(sortfruits[i])"
      ],
      "metadata": {
        "id": "ZqYcClm8hJP9",
        "colab": {
          "base_uri": "https://localhost:8080/"
        },
        "outputId": "b99f0239-27fc-44e8-9cef-65dc4b840008"
      },
      "execution_count": null,
      "outputs": [
        {
          "output_type": "stream",
          "name": "stdout",
          "text": [
            "('cherry', 70)\n",
            "('strawberry', 67)\n",
            "('raspberry', 43)\n"
          ]
        }
      ]
    },
    {
      "cell_type": "code",
      "source": [],
      "metadata": {
        "id": "wdOPsIT-62ke"
      },
      "execution_count": null,
      "outputs": []
    }
  ]
}