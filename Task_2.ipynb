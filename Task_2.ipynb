{
  "nbformat": 4,
  "nbformat_minor": 0,
  "metadata": {
    "colab": {
      "provenance": [],
      "include_colab_link": true
    },
    "kernelspec": {
      "name": "python3",
      "display_name": "Python 3"
    },
    "language_info": {
      "name": "python"
    }
  },
  "cells": [
    {
      "cell_type": "markdown",
      "metadata": {
        "id": "view-in-github",
        "colab_type": "text"
      },
      "source": [
        "<a href=\"https://colab.research.google.com/github/Sulthana-2000/Python_Tasks/blob/main/Task_2.ipynb\" target=\"_parent\"><img src=\"https://colab.research.google.com/assets/colab-badge.svg\" alt=\"Open In Colab\"/></a>"
      ]
    },
    {
      "cell_type": "markdown",
      "source": [
        "**Exercise 1**: Create a function with a default argument\n",
        "Write a program to create a function show_employee() using the following conditions.\n",
        "It should accept the employee’s name and salary and display both.\n",
        "If the salary is missing in the function call then assign default value 9000 to salary\n",
        "\n",
        "Given:\n",
        "showEmployee(\"Ben\", 12000)\n",
        "showEmployee(\"Jessa\")\n",
        "\n",
        "Expected output:\n",
        "Name: Ben salary: 12000\n",
        "Name: Jessa salary: 9000\n"
      ],
      "metadata": {
        "id": "5OjzUb966EAU"
      }
    },
    {
      "cell_type": "code",
      "execution_count": null,
      "metadata": {
        "colab": {
          "base_uri": "https://localhost:8080/"
        },
        "id": "lhMsxdtqqZtD",
        "outputId": "bd3cd7c6-f239-4c01-878a-ea219e32a297"
      },
      "outputs": [
        {
          "output_type": "stream",
          "name": "stdout",
          "text": [
            "Name:Ben salary:12000\n",
            "Name:Jessa salary:9000\n"
          ]
        }
      ],
      "source": [
        "def show_employee(name,salary=9000):\n",
        "    print(f\"Name:{name} salary:{salary}\")\n",
        "\n",
        "show_employee(\"Ben\",12000)\n",
        "show_employee(\"Jessa\")"
      ]
    },
    {
      "cell_type": "markdown",
      "source": [
        "**Exercise 2**: Create an inner function to calculate the addition in the following way:\n",
        "\n",
        ">Create an outer function that will accept two parameters, a and b\n",
        "\n",
        "> Create an inner function inside an outer function that will calculate the addition of a and b\n",
        "\n",
        ">At last, an outer function will add 5 into addition and return it\n",
        "\n",
        "\n",
        "\n",
        "\n",
        "\n",
        "\n"
      ],
      "metadata": {
        "id": "H90GClh06tGQ"
      }
    },
    {
      "cell_type": "code",
      "source": [
        "def outer_func(a,b):\n",
        "  def inner_func():\n",
        "    return a+b\n",
        "  return inner_func()+5\n",
        "result=outer_func(10,20)\n",
        "print(result)"
      ],
      "metadata": {
        "colab": {
          "base_uri": "https://localhost:8080/"
        },
        "id": "Sd5xZ1YU7MEr",
        "outputId": "14c8a54c-3a7a-49bb-d406-d7489c1bee37"
      },
      "execution_count": null,
      "outputs": [
        {
          "output_type": "stream",
          "name": "stdout",
          "text": [
            "35\n"
          ]
        }
      ]
    },
    {
      "cell_type": "markdown",
      "source": [
        "**Exercise 3**: Generate a Python list of all the even numbers between 4 to 30"
      ],
      "metadata": {
        "id": "yc6ZUoxJ8RiF"
      }
    },
    {
      "cell_type": "code",
      "source": [
        "list(range(4,31,2))"
      ],
      "metadata": {
        "colab": {
          "base_uri": "https://localhost:8080/"
        },
        "id": "Df5jIff68XOG",
        "outputId": "75f04a69-a745-4fde-c6f5-f39def3089db"
      },
      "execution_count": null,
      "outputs": [
        {
          "output_type": "execute_result",
          "data": {
            "text/plain": [
              "[4, 6, 8, 10, 12, 14, 16, 18, 20, 22, 24, 26, 28, 30]"
            ]
          },
          "metadata": {},
          "execution_count": 4
        }
      ]
    },
    {
      "cell_type": "markdown",
      "source": [
        "**Exercise 4**: Lambda Function to Check if value is in a List\n",
        "Given a list, the task is to write a Python program to check if the value exists in the list or not using the lambda function.\n",
        "\n",
        "\n",
        "Input  : L = [1, 2, 3, 4, 5]\n",
        "          element = 4\n",
        "Output :  Element is Present in the list\n",
        "\n",
        "Input :  L = [1, 2, 3, 4, 5]\n",
        "          element = 8\n",
        "Output :  Element is NOT Present in the list\n"
      ],
      "metadata": {
        "id": "RYx_2Ht38btB"
      }
    },
    {
      "cell_type": "code",
      "source": [
        "check_element=lambda L,element:'element is present in the list' if list(filter(lambda x:x==element,L)) else 'element NOT present in the list'\n",
        "\n",
        "List=[1,2,3,4,5]\n",
        "element1=4\n",
        "print(check_element(List,element1))\n",
        "\n",
        "element2=8\n",
        "print(check_element(List,element2))"
      ],
      "metadata": {
        "colab": {
          "base_uri": "https://localhost:8080/"
        },
        "id": "8KEZTSe_8mIr",
        "outputId": "5e7318be-e187-4eaa-9cfd-dc3f9ae22e3d"
      },
      "execution_count": null,
      "outputs": [
        {
          "output_type": "stream",
          "name": "stdout",
          "text": [
            "element is present in the list\n",
            "element NOT present in the list\n"
          ]
        }
      ]
    },
    {
      "cell_type": "markdown",
      "source": [
        "**Exercise 5**: Sort list of tuples with their sum\n",
        "Sort the points based on their sum of elements in the tuples\n",
        "\n",
        "points = [(1, 2), (5, 3), (0, 7), (3, 1)]\n"
      ],
      "metadata": {
        "id": "OTdqWEsAAktx"
      }
    },
    {
      "cell_type": "code",
      "source": [
        "points=[(1,2),(5,3),(0,7),(3,1)]\n",
        "sorted_points=sorted(points,key=lambda point:sum(point))\n",
        "print(sorted_points)"
      ],
      "metadata": {
        "colab": {
          "base_uri": "https://localhost:8080/"
        },
        "id": "lCcvJ9SHAscI",
        "outputId": "b864ea13-2c32-4429-c557-b7202967bbbf"
      },
      "execution_count": null,
      "outputs": [
        {
          "output_type": "stream",
          "name": "stdout",
          "text": [
            "[(1, 2), (3, 1), (0, 7), (5, 3)]\n"
          ]
        }
      ]
    },
    {
      "cell_type": "markdown",
      "source": [
        "**Exercise 6** :\n",
        "Write a python function, which will find all such numbers between 1000 and 3000 (both included) such that each digit of the number is an even number. Return the results as a list\n"
      ],
      "metadata": {
        "id": "13UkyrodCrP2"
      }
    },
    {
      "cell_type": "code",
      "source": [
        "def find_numbers():\n",
        "    results = []\n",
        "    for num in range(1000, 3001):\n",
        "        if all(int(digit) % 2 == 0 for digit in str(num)):\n",
        "            results.append(num)\n",
        "    return results\n",
        "\n",
        "print(find_numbers())"
      ],
      "metadata": {
        "id": "9P-xvt4-CvlD",
        "colab": {
          "base_uri": "https://localhost:8080/"
        },
        "outputId": "2a54ead7-2587-4c6c-a65d-beeb9ca21a4f"
      },
      "execution_count": null,
      "outputs": [
        {
          "output_type": "stream",
          "name": "stdout",
          "text": [
            "[2000, 2002, 2004, 2006, 2008, 2020, 2022, 2024, 2026, 2028, 2040, 2042, 2044, 2046, 2048, 2060, 2062, 2064, 2066, 2068, 2080, 2082, 2084, 2086, 2088, 2200, 2202, 2204, 2206, 2208, 2220, 2222, 2224, 2226, 2228, 2240, 2242, 2244, 2246, 2248, 2260, 2262, 2264, 2266, 2268, 2280, 2282, 2284, 2286, 2288, 2400, 2402, 2404, 2406, 2408, 2420, 2422, 2424, 2426, 2428, 2440, 2442, 2444, 2446, 2448, 2460, 2462, 2464, 2466, 2468, 2480, 2482, 2484, 2486, 2488, 2600, 2602, 2604, 2606, 2608, 2620, 2622, 2624, 2626, 2628, 2640, 2642, 2644, 2646, 2648, 2660, 2662, 2664, 2666, 2668, 2680, 2682, 2684, 2686, 2688, 2800, 2802, 2804, 2806, 2808, 2820, 2822, 2824, 2826, 2828, 2840, 2842, 2844, 2846, 2848, 2860, 2862, 2864, 2866, 2868, 2880, 2882, 2884, 2886, 2888]\n"
          ]
        }
      ]
    },
    {
      "cell_type": "markdown",
      "source": [
        "**Exercise 7** :\n",
        "Write a python function that accepts a sentence and calculate and return the number of letters and digits.\n",
        "Suppose the following input is supplied to the program:\n",
        "\n",
        "hello world! 123\n",
        "\n",
        "Then, the output should be:\n",
        "LETTERS 10,DIGITS 3\n"
      ],
      "metadata": {
        "id": "Hp8Ls76BEmPG"
      }
    },
    {
      "cell_type": "code",
      "source": [
        "def count_letters_and_digits(sentence):\n",
        "    letter_count=0\n",
        "    digit_count=0\n",
        "    for character in sentence:\n",
        "        if character.isalpha():\n",
        "            letter_count +=1\n",
        "        elif character.isdigit():\n",
        "            digit_count +=1\n",
        "    return letter_count,digit_count\n",
        "\n",
        "sentence=\"hello world! 123\"\n",
        "letters,digits=count_letters_and_digits(sentence)\n",
        "print(\"LETTERS\",letters)\n",
        "print(\"DIGITS\",digits)"
      ],
      "metadata": {
        "colab": {
          "base_uri": "https://localhost:8080/"
        },
        "id": "_7ZWHVUuEqab",
        "outputId": "fd948a01-0557-47c1-cea8-5befe3364f96"
      },
      "execution_count": null,
      "outputs": [
        {
          "output_type": "stream",
          "name": "stdout",
          "text": [
            "LETTERS 10\n",
            "DIGITS 3\n"
          ]
        }
      ]
    },
    {
      "cell_type": "markdown",
      "source": [
        "**Exercise 8**  MAP:\n",
        "Write a Python program to convert all the characters into uppercase and lowercase and eliminate duplicate letters from a given sequence. Use the map() function\n"
      ],
      "metadata": {
        "id": "1h8P1apXF0al"
      }
    },
    {
      "cell_type": "code",
      "source": [
        "def convert_case_character(s):\n",
        "  return str(s).upper(),str(s).lower()\n",
        "character={'a','b','C','D','e'}\n",
        "result=map(convert_case_character,character)\n",
        "print(set(result))"
      ],
      "metadata": {
        "colab": {
          "base_uri": "https://localhost:8080/"
        },
        "id": "hio6-pVVGAye",
        "outputId": "6a37a871-788c-438b-c6c2-dcd03b03902d"
      },
      "execution_count": null,
      "outputs": [
        {
          "output_type": "stream",
          "name": "stdout",
          "text": [
            "{('c', 'C'), ('a', 'A'), ('d', 'D'), ('b', 'B'), ('e', 'E')}\n"
          ]
        }
      ]
    },
    {
      "cell_type": "markdown",
      "source": [
        "**Exercise 9** MAP:\n",
        " Write a Python program to element wise add two given lists and find the difference between them. Use the map() function\n",
        "\n"
      ],
      "metadata": {
        "id": "U1RmuknGJVMB"
      }
    },
    {
      "cell_type": "code",
      "source": [
        "l1=[2,4,6,8,9]\n",
        "l2=[2,3,4,5,6]\n",
        "list(map(lambda x,y:x-y,l1,l2))"
      ],
      "metadata": {
        "colab": {
          "base_uri": "https://localhost:8080/"
        },
        "id": "DCp7IGDjJbqX",
        "outputId": "e481fd04-8d95-4b64-d4d1-b6e0aa06b7c9"
      },
      "execution_count": null,
      "outputs": [
        {
          "output_type": "execute_result",
          "data": {
            "text/plain": [
              "[0, 1, 2, 3, 3]"
            ]
          },
          "metadata": {},
          "execution_count": 34
        }
      ]
    },
    {
      "cell_type": "markdown",
      "source": [
        "**Exercise 10** Filter:\n",
        "Write a Python program to filter the height and weight of students, which are stored in a dictionary using lambda.\n",
        "\n",
        "Original Dictionary:\n",
        "{'Cierra Vega': (6.2, 71), 'Alden Cantrell': (5.9, 65), 'Kierra Gentry': (6.0, 68), 'Pierre Cox': (5.8, 66)}\n",
        "\n",
        "Height> 6ft and Weight> 70kg:\n",
        "{'Cierra Vega': (6.2, 71)}\n"
      ],
      "metadata": {
        "id": "2-_TQ_xZKpVB"
      }
    },
    {
      "cell_type": "code",
      "source": [
        "students={'Cierra Vega':(6.2,71),'Alden Cantrell':(5.9,65),'Kierra Gentry':(6.0,68),'Pierre Cox':(5.8,66)}\n",
        "\n",
        "filtered=filter(lambda x:x[1][0]>6 and x[1][1]>70,students.items())\n",
        "\n",
        "print(dict(filtered))"
      ],
      "metadata": {
        "colab": {
          "base_uri": "https://localhost:8080/"
        },
        "id": "SFQYT0tSKzEn",
        "outputId": "79736457-1c0e-4bb8-d4df-75c9b625672b"
      },
      "execution_count": null,
      "outputs": [
        {
          "output_type": "stream",
          "name": "stdout",
          "text": [
            "{'Cierra Vega': (6.2, 71)}\n"
          ]
        }
      ]
    },
    {
      "cell_type": "markdown",
      "source": [
        "**Exercise 11** Filter:\n",
        "Write a Python program to remove all elements from a given list present in another list using lambda.\n",
        "\n",
        "Original lists:\n",
        "list1: [1, 2, 3, 4, 5, 6, 7, 8, 9, 10]\n",
        "\n",
        "list2: [2, 4, 6, 8]\n",
        "\n",
        "Remove all elements from 'list1' present in 'list2:\n",
        "[1, 3, 5, 7, 9, 10]\n"
      ],
      "metadata": {
        "id": "vmfHP1OSLv07"
      }
    },
    {
      "cell_type": "code",
      "source": [
        "list1=[1,2,3,4,5,6,7,8,9,10]\n",
        "list2=[2,4,6,8]\n",
        "\n",
        "new_list=list(filter(lambda x:x not in list2,list1))\n",
        "print(new_list)"
      ],
      "metadata": {
        "colab": {
          "base_uri": "https://localhost:8080/"
        },
        "id": "FlzOyshLMNzn",
        "outputId": "ae6d56f0-9523-4279-cd97-9e824b9cebd8"
      },
      "execution_count": null,
      "outputs": [
        {
          "output_type": "stream",
          "name": "stdout",
          "text": [
            "[1, 3, 5, 7, 9, 10]\n"
          ]
        }
      ]
    },
    {
      "cell_type": "markdown",
      "source": [
        "**Exercise 12** Reduce:\n",
        "\n",
        "\n",
        "Write a Python program to calculate the product of a given list of numbers using lambda.\n",
        "\n",
        "list1: [1, 2, 3, 4, 5, 6, 7, 8, 9, 10]\n",
        "\n",
        "Product of the said list numbers:\n",
        "3628800\n"
      ],
      "metadata": {
        "id": "onJa2JA0NezJ"
      }
    },
    {
      "cell_type": "code",
      "source": [
        "import functools\n",
        "\n",
        "list=[1,2,3,4,5,6,7,8,9,10]\n",
        "result=reduce(lambda x,y:x*y,list)\n",
        "print(result)"
      ],
      "metadata": {
        "colab": {
          "base_uri": "https://localhost:8080/"
        },
        "id": "qgJDngNtNnhc",
        "outputId": "bf25a4a1-9590-49d4-a2b7-cf812b453993"
      },
      "execution_count": null,
      "outputs": [
        {
          "output_type": "stream",
          "name": "stdout",
          "text": [
            "3628800\n"
          ]
        }
      ]
    },
    {
      "cell_type": "markdown",
      "source": [
        "**Exercise 13** Reduce:\n",
        "\n",
        "\n",
        " Write a Python program to multiply all the numbers in a given list using lambda.\n",
        "\n",
        "Original list:\n",
        "[4, 3, 2, 2, -1, 18]\n",
        "\n",
        "Mmultiply all the numbers of the said list: -864\n"
      ],
      "metadata": {
        "id": "HqQdgEhUPQBc"
      }
    },
    {
      "cell_type": "code",
      "source": [
        "import functools\n",
        "\n",
        "list=[4,3,2,2,-1,18]\n",
        "result=reduce(lambda x,y:x*y,list)\n",
        "print(result)"
      ],
      "metadata": {
        "colab": {
          "base_uri": "https://localhost:8080/"
        },
        "id": "93k_48MHPZIj",
        "outputId": "b52a9b3c-1274-436c-e51c-d0896dda8754"
      },
      "execution_count": null,
      "outputs": [
        {
          "output_type": "stream",
          "name": "stdout",
          "text": [
            "-864\n"
          ]
        }
      ]
    },
    {
      "cell_type": "markdown",
      "source": [
        "**Exercise 14** Reduce:\n",
        "\n",
        "\n",
        "Write a Python program to calculate the average value of the numbers in a given tuple of tuples using lambda.\n",
        "\n",
        "Original Tuple:\n",
        "((10, 10, 10), (30, 45, 56), (81, 80, 39), (1, 2, 3))\n",
        "\n",
        "Average value of the numbers of the said tuple of tuples:\n",
        "(30.5, 34.25, 27.0)\n"
      ],
      "metadata": {
        "id": "u3QRbhZHPwmn"
      }
    },
    {
      "cell_type": "code",
      "source": [
        "tuple=((10, 10, 10), (30, 45, 56), (81, 80, 39), (1, 2, 3))\n",
        "\n",
        "avg=[sum(x)/len(x) for x in zip(*tuple)]\n",
        "print(avg)"
      ],
      "metadata": {
        "colab": {
          "base_uri": "https://localhost:8080/"
        },
        "id": "xg-lrk6gP30H",
        "outputId": "1c1f8814-524e-416a-807a-724137e9b52d"
      },
      "execution_count": null,
      "outputs": [
        {
          "output_type": "stream",
          "name": "stdout",
          "text": [
            "[30.5, 34.25, 27.0]\n"
          ]
        }
      ]
    },
    {
      "cell_type": "markdown",
      "source": [
        "**Exercise 15**:\n",
        "\n",
        "\n",
        "Write a Python program to sort a given mixed list of integers and strings using lambda. Numbers must be sorted before strings.\n",
        "\n",
        "Original list:\n",
        "[19, 'red', 12, 'green', 'blue', 10, 'white', 'green', 1]\n",
        "\n",
        "Sort the said mixed list of integers and strings:\n",
        "[1, 10, 12, 19, 'blue', 'green', 'green', 'red', 'white']\n"
      ],
      "metadata": {
        "id": "nslMA4_JTNHK"
      }
    },
    {
      "cell_type": "code",
      "source": [
        "original_list=[19,'red',12,'green','blue',10,'white','green',1]\n",
        "\n",
        "sorted_list=sorted(original_list,key=lambda x:(isinstance(x,str),x))\n",
        "print(sorted_list)"
      ],
      "metadata": {
        "colab": {
          "base_uri": "https://localhost:8080/"
        },
        "id": "Q7ptdT6OTTiD",
        "outputId": "4949e217-de54-44f8-945c-485caa465e68"
      },
      "execution_count": null,
      "outputs": [
        {
          "output_type": "stream",
          "name": "stdout",
          "text": [
            "[1, 10, 12, 19, 'blue', 'green', 'green', 'red', 'white']\n"
          ]
        }
      ]
    },
    {
      "cell_type": "markdown",
      "source": [
        "**Exercise 16**:\n",
        "Write a Python program to count the occurrences of items in a given list using lambda.\n",
        "\n",
        "Original list:\n",
        "[3, 4, 5, 8, 0, 3, 8, 5, 0, 3, 1, 5, 2, 3, 4, 2]\n",
        "\n",
        "Count the occurrences of the items in the said list:\n",
        "{3: 4, 4: 2, 5: 3, 8: 2, 0: 2, 1: 1, 2: 2}\n"
      ],
      "metadata": {
        "id": "jAo43euIUF7P"
      }
    },
    {
      "cell_type": "code",
      "source": [
        "original_list=[3,4,5,8,0,3,8,5,0,3,1,5,2,3,4,2]\n",
        "\n",
        "occurrences=dict(map(lambda x:(x,original_list.count(x)),original_list))\n",
        "print(occurrences)"
      ],
      "metadata": {
        "colab": {
          "base_uri": "https://localhost:8080/"
        },
        "id": "eqztDaMhUzt8",
        "outputId": "7496521b-df80-4fc9-bf39-2ab37c368565"
      },
      "execution_count": null,
      "outputs": [
        {
          "output_type": "stream",
          "name": "stdout",
          "text": [
            "{3: 4, 4: 2, 5: 3, 8: 2, 0: 2, 1: 1, 2: 2}\n"
          ]
        }
      ]
    },
    {
      "cell_type": "markdown",
      "source": [
        "Exercise 17:\n",
        "\n",
        "\n",
        "Write a Python program to remove None values from a given list using the lambda function.\n",
        "\n",
        "Original list:\n",
        "[12, 0, None, 23, None, -55, 234, 89, None, 0, 6, -12]\n",
        "\n",
        "Remove None value from the said list:\n",
        "[12, 0, 23, -55, 234, 89, 0, 6, -12]\n"
      ],
      "metadata": {
        "id": "98Chrs7_VnQv"
      }
    },
    {
      "cell_type": "code",
      "source": [
        "original_list=[12,0,None,23,None,-55,234,89,None,0,6,-12]\n",
        "\n",
        "filtered_list=list(filter(lambda x:x is not None,original_list))\n",
        "print(\"Remove None value from the said list:\")\n",
        "print(filtered_list)\n"
      ],
      "metadata": {
        "colab": {
          "base_uri": "https://localhost:8080/"
        },
        "id": "WAvGRsmfVrzR",
        "outputId": "25d9c2cf-ddeb-415a-ae68-53eb40ac355b"
      },
      "execution_count": null,
      "outputs": [
        {
          "output_type": "stream",
          "name": "stdout",
          "text": [
            "[12, 0, 23, -55, 234, 89, 0, 6, -12]\n"
          ]
        }
      ]
    }
  ]
}